{
 "cells": [
  {
   "cell_type": "code",
   "execution_count": 81,
   "metadata": {},
   "outputs": [],
   "source": [
    "from langchain_openai import OpenAI, ChatOpenAI\n",
    "from langchain.text_splitter import RecursiveCharacterTextSplitter\n",
    "from langchain_openai import OpenAIEmbeddings\n",
    "from langchain_community.vectorstores import FAISS\n",
    "from langchain_core.vectorstores import VectorStoreRetriever\n",
    "from langchain.chains import RetrievalQA\n",
    "from langchain_community.document_loaders import YoutubeLoader\n",
    "import streamlit as st\n",
    "import os"
   ]
  },
  {
   "cell_type": "code",
   "execution_count": 82,
   "metadata": {},
   "outputs": [],
   "source": [
    "\n",
    "OPENAI_API_KEY = st.secrets[\"OPENAI_API_KEY\"]\n",
    "youtube_url = \"https://www.youtube.com/watch?v=P1iCMyuwOfg&ab_channel=ChefReactions\"\n",
    "youtube_url_2 = \"https://www.youtube.com/watch?v=Gm2-Kc-A7Kc&t=2s&ab_channel=ColoradoChannel\"\n",
    "openai_embed_model = \"text-embedding-ada-002\"\n",
    "openai_model = \"gpt-3.5-turbo-16k\"\n",
    "llm = ChatOpenAI(api_key=OPENAI_API_KEY, model=openai_model, temperature=0.1)"
   ]
  },
  {
   "cell_type": "code",
   "execution_count": 83,
   "metadata": {},
   "outputs": [],
   "source": [
    "def process_video(url):\n",
    "    loader = YoutubeLoader.from_youtube_url(url)\n",
    "    documents = loader.load()\n",
    "    text_splitter = RecursiveCharacterTextSplitter(chunk_size=10000, chunk_overlap=200)\n",
    "    chunks = text_splitter.split_documents(documents)\n",
    "    embedding = OpenAIEmbeddings(api_key=OPENAI_API_KEY, model = \"text-embedding-ada-002\")\n",
    "    vector_store = FAISS.from_documents(chunks, embedding)\n",
    "    return vector_store"
   ]
  },
  {
   "cell_type": "code",
   "execution_count": 84,
   "metadata": {},
   "outputs": [],
   "source": [
    "vector_store = process_video(youtube_url_2)"
   ]
  },
  {
   "cell_type": "code",
   "execution_count": 98,
   "metadata": {},
   "outputs": [],
   "source": [
    "query1 = 'give me a bulleted list of the talking points'\n",
    "query2 = 'what is the most important point of the video?'\n",
    "query3 = 'please list the bills that were voted on. Give the bill number, the bill name, and the main talking points about each'"
   ]
  },
  {
   "cell_type": "code",
   "execution_count": 88,
   "metadata": {},
   "outputs": [],
   "source": [
    "def process_question(question):\n",
    "    retriever = vector_store.as_retriever()\n",
    "    qa = RetrievalQA.from_chain_type(llm = llm, chain_type='stuff', retriever=retriever)\n",
    "    results = qa.invoke(question)\n",
    "    return results\n"
   ]
  },
  {
   "cell_type": "code",
   "execution_count": 99,
   "metadata": {},
   "outputs": [],
   "source": [
    "response = submit_question(query3)"
   ]
  },
  {
   "cell_type": "code",
   "execution_count": 102,
   "metadata": {},
   "outputs": [
    {
     "name": "stdout",
     "output_type": "stream",
     "text": [
      "Here is a list of the bills that were voted on:\n",
      "\n",
      "1. House Bill 1368 - This bill was passed. It concerns requirements for property and casualty insurers offering insurance policies in the state to provide certain documents to their insurance.\n",
      "\n",
      "2. House Bill 1381 - This bill was passed. It concerns the continuation of the division of financial services in the department of regulatory agencies and implements recommendations from the 2023 Sunset report.\n",
      "\n",
      "3. House Bill 1438 - This bill was passed. It concerns the implementation of certain affordable prescription drug programs and makes an appropriation.\n",
      "\n",
      "4. House Bill 1443 - This bill was passed. It concerns fees to which public trustees are entitled for performing services conferred upon them by statute.\n",
      "\n",
      "5. Senate Bill 13 - This bill was passed. It concerns the compensation of attorneys working in the office of a district attorney.\n",
      "\n",
      "6. Senate Bill 55 - This bill was passed. It concerns supporting the behavioral health care of individuals involved in agriculture.\n",
      "\n",
      "These bills address various issues such as insurance requirements, financial services, prescription drug programs, fees for public trustees, attorney compensation, and behavioral health care in the agriculture industry.\n"
     ]
    }
   ],
   "source": [
    "print(response['result'])"
   ]
  }
 ],
 "metadata": {
  "kernelspec": {
   "display_name": "base",
   "language": "python",
   "name": "python3"
  },
  "language_info": {
   "codemirror_mode": {
    "name": "ipython",
    "version": 3
   },
   "file_extension": ".py",
   "mimetype": "text/x-python",
   "name": "python",
   "nbconvert_exporter": "python",
   "pygments_lexer": "ipython3",
   "version": "3.11.5"
  }
 },
 "nbformat": 4,
 "nbformat_minor": 2
}
