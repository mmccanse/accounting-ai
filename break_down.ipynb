{
 "cells": [
  {
   "cell_type": "code",
   "execution_count": 6,
   "metadata": {},
   "outputs": [],
   "source": [
    "from langchain_openai import OpenAI\n",
    "from langchain_community.document_loaders import TextLoader\n",
    "from langchain.text_splitter import RecursiveCharacterTextSplitter\n",
    "from langchain_openai import OpenAIEmbeddings\n",
    "from langchain_community.vectorstores import FAISS\n",
    "from langchain_core.vectorstores import VectorStoreRetriever\n",
    "from langchain.chains import RetrievalQA\n",
    "from langchain_community.document_loaders import YoutubeLoader\n",
    "import streamlit as st\n",
    "import os"
   ]
  },
  {
   "cell_type": "code",
   "execution_count": 22,
   "metadata": {},
   "outputs": [],
   "source": [
    "\n",
    "OPENAI_API_KEY = st.secrets[\"OPENAI_API_KEY\"]\n",
    "youtube_url = \"https://www.youtube.com/watch?v=P1iCMyuwOfg&ab_channel=ChefReactions\"\n",
    "openai_embed_model = \"text-embedding-ada-002\""
   ]
  },
  {
   "cell_type": "code",
   "execution_count": 7,
   "metadata": {},
   "outputs": [],
   "source": [
    "loader = YoutubeLoader.from_youtube_url(youtube_url)"
   ]
  },
  {
   "cell_type": "code",
   "execution_count": 13,
   "metadata": {},
   "outputs": [],
   "source": [
    "documents = loader.load()\n",
    "text_splitter = RecursiveCharacterTextSplitter(chunk_size=10000, chunk_overlap=200)\n",
    "chunks = text_splitter.split_documents(documents)\n",
    "embedding = OpenAIEmbeddings(api_key=OPENAI_API_KEY, model = \"text-embedding-ada-002\")\n",
    "vector_store = FAISS.from_documents(chunks, embedding)"
   ]
  },
  {
   "cell_type": "code",
   "execution_count": 19,
   "metadata": {},
   "outputs": [],
   "source": [
    "query1 = 'give me a bulleted list of the talking points'\n",
    "query2 = 'please summarize the video'"
   ]
  },
  {
   "cell_type": "code",
   "execution_count": 16,
   "metadata": {},
   "outputs": [],
   "source": [
    "query_answer = vector_store.similarity_search(query1)"
   ]
  },
  {
   "cell_type": "code",
   "execution_count": 21,
   "metadata": {},
   "outputs": [
    {
     "name": "stdout",
     "output_type": "stream",
     "text": [
      "which he did fota is a great way to start any Italian meal that was a 10 out of 10 followed that up with some BC spot prawns as well as a lobster salad very fresh very tasty 10 out of 10 actually you know what this whole meal was a 10 out of 10 so let's forget about the ratings going forward just assume that it's a 10 out of 10 the two pasta dishes this busiate with Bata was delicious rot noi fan tastic can't beat it I love a good mushroom pasta both of them guess what 10 out of 10 if you've watched my videos you've noticed that I do this thing where when I bite into something if I like it I nod like a idiot uh so that's the chef reaction seal of approval this grilled pork chop was incredibly balanced had a really nice acidity to it uh say that five times fast the kale salad was also good even though I'm not a rabbit we were then served a trio of desserts including this cake which was my personal favorite this cheesecake which was the cherries and fennel and this pistachio semi Fredo I did really enjoy the pistachio semi Fredo um not crazy about the cheesecake only because I don't like fennel or licorice flavored stuff but that cake was just Dynamite look at that look on my face shout out to the team at nor gr for their Hospitality I always love a chance to go back into the kitchen Montreal is one of my favorite food cities in all of North America and I think it's criminally underrated next time you get an opportunity actually you know what go out of your way come to Montreal you won't regret it\n"
     ]
    }
   ],
   "source": [
    "print(query_answer[1].page_content)"
   ]
  },
  {
   "cell_type": "code",
   "execution_count": 24,
   "metadata": {},
   "outputs": [],
   "source": [
    "retriever = vector_store.as_retriever()\n",
    "qa = RetrievalQA.from_chain_type(llm = OpenAI(), chain_type='stuff', retriever=retriever)\n"
   ]
  },
  {
   "cell_type": "code",
   "execution_count": 29,
   "metadata": {},
   "outputs": [],
   "source": [
    "retriever_query = 'give me a bulleted list of the talking points'\n",
    "results = qa.invoke(retriever_query)\n"
   ]
  },
  {
   "cell_type": "code",
   "execution_count": 34,
   "metadata": {},
   "outputs": [
    {
     "name": "stdout",
     "output_type": "stream",
     "text": [
      "\n",
      "- Introduction: name, Chef Reactions, Montreal\n",
      "- Orange Julip: trademark drink, 7/10 rating\n",
      "- Montreal spots: usually has a list, tried new places this time\n",
      "- Guard M: Crouats (okay, dense), Octopus dish (10/10), tomato salad (6.5/10), pasta dish (10/10), cream puffs (10/10)\n",
      "- Old Port of Montreal: pedestrian traffic only, European vibe, spring/summer live music, Bixie bikes, Old Montreal founded in 1642, touristy spot\n",
      "- Montreal winter: sucks, underground city, two seasons (winter and construction)\n",
      "- Tip for out of towners: don't drive, use Metro, $11 for day pass\n",
      "- Eating Center: Timeout Market, fancy food court, $10 American for most expensive pasta dish, Cream puffs (10/10)\n",
      "- Montreal Plaza: #21 on Canada's top 100 list, featured on Somebody Feed Phil, tasting menu, constantly changing, Potato foam (nostalgic), Sea urchin and cream with togarashi asparagus and dong, Spinach and scallop salad, Strawberries and asparagus dish, Turbo tempura salad, Signature dish (\n"
     ]
    }
   ],
   "source": [
    "print(results['result'])"
   ]
  },
  {
   "cell_type": "code",
   "execution_count": null,
   "metadata": {},
   "outputs": [],
   "source": [
    "library.save_local(\"faiss_index\")"
   ]
  }
 ],
 "metadata": {
  "kernelspec": {
   "display_name": "base",
   "language": "python",
   "name": "python3"
  },
  "language_info": {
   "codemirror_mode": {
    "name": "ipython",
    "version": 3
   },
   "file_extension": ".py",
   "mimetype": "text/x-python",
   "name": "python",
   "nbconvert_exporter": "python",
   "pygments_lexer": "ipython3",
   "version": "3.11.5"
  }
 },
 "nbformat": 4,
 "nbformat_minor": 2
}
