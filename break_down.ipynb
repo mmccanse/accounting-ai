{
 "cells": [
  {
   "cell_type": "code",
   "execution_count": 81,
   "metadata": {},
   "outputs": [],
   "source": [
    "from langchain_openai import OpenAI, ChatOpenAI\n",
    "from langchain_community.document_loaders import TextLoader\n",
    "from langchain.text_splitter import RecursiveCharacterTextSplitter\n",
    "from langchain_openai import OpenAIEmbeddings\n",
    "from langchain_community.vectorstores import FAISS\n",
    "from langchain_core.vectorstores import VectorStoreRetriever\n",
    "from langchain.chains import RetrievalQA\n",
    "from langchain_community.document_loaders import YoutubeLoader\n",
    "import streamlit as st\n",
    "import os"
   ]
  },
  {
   "cell_type": "code",
   "execution_count": 82,
   "metadata": {},
   "outputs": [],
   "source": [
    "\n",
    "OPENAI_API_KEY = st.secrets[\"OPENAI_API_KEY\"]\n",
    "youtube_url = \"https://www.youtube.com/watch?v=P1iCMyuwOfg&ab_channel=ChefReactions\"\n",
    "youtube_url_2 = \"https://www.youtube.com/watch?v=Gm2-Kc-A7Kc&t=2s&ab_channel=ColoradoChannel\"\n",
    "openai_embed_model = \"text-embedding-ada-002\"\n",
    "openai_model = \"gpt-3.5-turbo-16k\"\n",
    "llm = ChatOpenAI(api_key=OPENAI_API_KEY, model=openai_model, temperature=0.1)"
   ]
  },
  {
   "cell_type": "code",
   "execution_count": 83,
   "metadata": {},
   "outputs": [],
   "source": [
    "def process_video(url):\n",
    "    loader = YoutubeLoader.from_youtube_url(url)\n",
    "    documents = loader.load()\n",
    "    text_splitter = RecursiveCharacterTextSplitter(chunk_size=10000, chunk_overlap=200)\n",
    "    chunks = text_splitter.split_documents(documents)\n",
    "    embedding = OpenAIEmbeddings(api_key=OPENAI_API_KEY, model = \"text-embedding-ada-002\")\n",
    "    vector_store = FAISS.from_documents(chunks, embedding)\n",
    "    return vector_store"
   ]
  },
  {
   "cell_type": "code",
   "execution_count": 84,
   "metadata": {},
   "outputs": [],
   "source": [
    "vector_store = process_video(youtube_url_2)"
   ]
  },
  {
   "cell_type": "code",
   "execution_count": 85,
   "metadata": {},
   "outputs": [],
   "source": [
    "query1 = 'give me a bulleted list of the talking points'\n",
    "query2 = 'what is the most important point of the video?'\n",
    "query3 = 'who is hosting the video?'"
   ]
  },
  {
   "cell_type": "code",
   "execution_count": 88,
   "metadata": {},
   "outputs": [],
   "source": [
    "def submit_question(question):\n",
    "    retriever = vector_store.as_retriever()\n",
    "    qa = RetrievalQA.from_chain_type(llm = llm, chain_type='stuff', retriever=retriever)\n",
    "    results = qa.invoke(question)\n",
    "    return results\n"
   ]
  },
  {
   "cell_type": "code",
   "execution_count": 89,
   "metadata": {},
   "outputs": [],
   "source": [
    "response = submit_question(query1)"
   ]
  },
  {
   "cell_type": "code",
   "execution_count": 90,
   "metadata": {},
   "outputs": [
    {
     "name": "stdout",
     "output_type": "stream",
     "text": [
      "- Senate Bill 13: Addresses the compensation of attorneys working in the office of a district attorney\n",
      "- Senate Bill 55: Supports the behavioral healthcare of individuals involved in agriculture\n",
      "- House Bill 109: Raises concerns about handing over the responsibility of raising children to the state\n",
      "- House Bill 1063: Addresses the effect of abbreviated school days on children with disabilities\n",
      "- House Bill 1286: Aims to increase access to the courts for indigent persons\n",
      "- House Bill 1304: Focuses on parking requirements within Metropolitan Planning Organizations\n",
      "- House Bill 1152: Increases the number of accessory dwelling units\n",
      "- House Bill 1270: Deals with the rearing of children by the state\n",
      "- House Bill 1063: Addresses the compensation of attorneys working in the office of a district attorney\n",
      "- House Bill 1286: Aims to increase access to the courts for indigent persons\n",
      "- House Bill 1331: Focuses on the continuation of the regulation of physical therapy practice\n",
      "- House Bill 1350: Modifies processes related to taxes imposed by local governments\n",
      "- House Bill 1372: Concerns requirements for Property and Casualty insurers offering insurance policies\n",
      "- House Bill 1368: Implements the recommendation in the department of regulatory agencies 2023 Sunset report\n",
      "- House Bill 1381: Continues the concurrent enrollment Advisory Board\n",
      "- House Bill 1438: Addresses requirements for Property and Casualty insurers offering insurance policies\n",
      "- House Bill 1443: Implements the recommendations contained in the 2023 Sunset report by the department of regulatory agencies\n",
      "- House Bill 1304: Focuses on parking requirements within Metropolitan Planning Organizations\n",
      "- House Bill 1010: Simplifies processes related to taxes imposed by local governments\n",
      "- House Bill 1152: Continues the concurrent enrollment Advisory Board\n",
      "- House Bill 1175: Addresses the continuation of the regulation of physical therapy practice\n",
      "- House Bill 1230: Modifies processes related to taxes imposed by local governments\n",
      "- Senate Bill 130: Addresses parking requirements within Metropolitan Planning Organizations\n",
      "- Senate Bill 205: Focuses on the continuation of the regulation of physical therapy practice\n",
      "- Senate Bill 1010: Simplifies processes related to taxes imposed by local governments\n",
      "- Senate Bill 1230: Modifies processes related to taxes imposed by local governments\n"
     ]
    }
   ],
   "source": [
    "print(response['result'])"
   ]
  }
 ],
 "metadata": {
  "kernelspec": {
   "display_name": "base",
   "language": "python",
   "name": "python3"
  },
  "language_info": {
   "codemirror_mode": {
    "name": "ipython",
    "version": 3
   },
   "file_extension": ".py",
   "mimetype": "text/x-python",
   "name": "python",
   "nbconvert_exporter": "python",
   "pygments_lexer": "ipython3",
   "version": "3.11.5"
  }
 },
 "nbformat": 4,
 "nbformat_minor": 2
}
