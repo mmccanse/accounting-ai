{
 "cells": [
  {
   "cell_type": "code",
   "execution_count": null,
   "metadata": {},
   "outputs": [],
   "source": [
    "# pip install -U langchain-community faiss-cpu langchain-openai tiktoken"
   ]
  },
  {
   "cell_type": "code",
   "execution_count": null,
   "metadata": {},
   "outputs": [],
   "source": [
    "# pip install faiss-cpu"
   ]
  },
  {
   "cell_type": "code",
   "execution_count": null,
   "metadata": {},
   "outputs": [],
   "source": [
    "# pip install streamlit-option-menu"
   ]
  },
  {
   "cell_type": "code",
   "execution_count": 1,
   "metadata": {},
   "outputs": [
    {
     "name": "stdout",
     "output_type": "stream",
     "text": [
      "Requirement already satisfied: streamlit-option-menu in c:\\users\\mered\\anaconda3\\lib\\site-packages (0.3.12)\n",
      "Requirement already satisfied: streamlit>=0.63 in c:\\users\\mered\\anaconda3\\lib\\site-packages (from streamlit-option-menu) (1.33.0)\n",
      "Requirement already satisfied: altair<6,>=4.0 in c:\\users\\mered\\anaconda3\\lib\\site-packages (from streamlit>=0.63->streamlit-option-menu) (5.3.0)\n",
      "Requirement already satisfied: blinker<2,>=1.0.0 in c:\\users\\mered\\anaconda3\\lib\\site-packages (from streamlit>=0.63->streamlit-option-menu) (1.7.0)\n",
      "Requirement already satisfied: cachetools<6,>=4.0 in c:\\users\\mered\\anaconda3\\lib\\site-packages (from streamlit>=0.63->streamlit-option-menu) (5.3.3)\n",
      "Requirement already satisfied: click<9,>=7.0 in c:\\users\\mered\\anaconda3\\lib\\site-packages (from streamlit>=0.63->streamlit-option-menu) (8.1.7)\n",
      "Requirement already satisfied: numpy<2,>=1.19.3 in c:\\users\\mered\\anaconda3\\lib\\site-packages (from streamlit>=0.63->streamlit-option-menu) (1.26.4)\n",
      "Requirement already satisfied: packaging<25,>=16.8 in c:\\users\\mered\\anaconda3\\lib\\site-packages (from streamlit>=0.63->streamlit-option-menu) (23.2)\n",
      "Requirement already satisfied: pandas<3,>=1.3.0 in c:\\users\\mered\\anaconda3\\lib\\site-packages (from streamlit>=0.63->streamlit-option-menu) (2.1.4)\n",
      "Requirement already satisfied: pillow<11,>=7.1.0 in c:\\users\\mered\\anaconda3\\lib\\site-packages (from streamlit>=0.63->streamlit-option-menu) (10.2.0)\n",
      "Requirement already satisfied: protobuf<5,>=3.20 in c:\\users\\mered\\anaconda3\\lib\\site-packages (from streamlit>=0.63->streamlit-option-menu) (4.25.3)\n",
      "Requirement already satisfied: pyarrow>=7.0 in c:\\users\\mered\\anaconda3\\lib\\site-packages (from streamlit>=0.63->streamlit-option-menu) (14.0.2)\n",
      "Requirement already satisfied: requests<3,>=2.27 in c:\\users\\mered\\anaconda3\\lib\\site-packages (from streamlit>=0.63->streamlit-option-menu) (2.31.0)\n",
      "Requirement already satisfied: rich<14,>=10.14.0 in c:\\users\\mered\\anaconda3\\lib\\site-packages (from streamlit>=0.63->streamlit-option-menu) (13.3.5)\n",
      "Requirement already satisfied: tenacity<9,>=8.1.0 in c:\\users\\mered\\anaconda3\\lib\\site-packages (from streamlit>=0.63->streamlit-option-menu) (8.2.3)\n",
      "Requirement already satisfied: toml<2,>=0.10.1 in c:\\users\\mered\\anaconda3\\lib\\site-packages (from streamlit>=0.63->streamlit-option-menu) (0.10.2)\n",
      "Requirement already satisfied: typing-extensions<5,>=4.3.0 in c:\\users\\mered\\anaconda3\\lib\\site-packages (from streamlit>=0.63->streamlit-option-menu) (4.9.0)\n",
      "Requirement already satisfied: gitpython!=3.1.19,<4,>=3.0.7 in c:\\users\\mered\\anaconda3\\lib\\site-packages (from streamlit>=0.63->streamlit-option-menu) (3.1.43)\n",
      "Requirement already satisfied: pydeck<1,>=0.8.0b4 in c:\\users\\mered\\anaconda3\\lib\\site-packages (from streamlit>=0.63->streamlit-option-menu) (0.8.1b0)\n",
      "Requirement already satisfied: tornado<7,>=6.0.3 in c:\\users\\mered\\anaconda3\\lib\\site-packages (from streamlit>=0.63->streamlit-option-menu) (6.3.3)\n",
      "Requirement already satisfied: watchdog>=2.1.5 in c:\\users\\mered\\anaconda3\\lib\\site-packages (from streamlit>=0.63->streamlit-option-menu) (2.1.6)\n",
      "Requirement already satisfied: jinja2 in c:\\users\\mered\\anaconda3\\lib\\site-packages (from altair<6,>=4.0->streamlit>=0.63->streamlit-option-menu) (3.1.3)\n",
      "Requirement already satisfied: jsonschema>=3.0 in c:\\users\\mered\\anaconda3\\lib\\site-packages (from altair<6,>=4.0->streamlit>=0.63->streamlit-option-menu) (4.19.2)\n",
      "Requirement already satisfied: toolz in c:\\users\\mered\\anaconda3\\lib\\site-packages (from altair<6,>=4.0->streamlit>=0.63->streamlit-option-menu) (0.12.0)\n",
      "Requirement already satisfied: colorama in c:\\users\\mered\\anaconda3\\lib\\site-packages (from click<9,>=7.0->streamlit>=0.63->streamlit-option-menu) (0.4.4)\n",
      "Requirement already satisfied: gitdb<5,>=4.0.1 in c:\\users\\mered\\anaconda3\\lib\\site-packages (from gitpython!=3.1.19,<4,>=3.0.7->streamlit>=0.63->streamlit-option-menu) (4.0.11)\n",
      "Requirement already satisfied: python-dateutil>=2.8.2 in c:\\users\\mered\\anaconda3\\lib\\site-packages (from pandas<3,>=1.3.0->streamlit>=0.63->streamlit-option-menu) (2.8.2)\n",
      "Requirement already satisfied: pytz>=2020.1 in c:\\users\\mered\\anaconda3\\lib\\site-packages (from pandas<3,>=1.3.0->streamlit>=0.63->streamlit-option-menu) (2023.3.post1)\n",
      "Requirement already satisfied: tzdata>=2022.1 in c:\\users\\mered\\anaconda3\\lib\\site-packages (from pandas<3,>=1.3.0->streamlit>=0.63->streamlit-option-menu) (2023.3)\n",
      "Requirement already satisfied: charset-normalizer<4,>=2 in c:\\users\\mered\\anaconda3\\lib\\site-packages (from requests<3,>=2.27->streamlit>=0.63->streamlit-option-menu) (2.0.4)\n",
      "Requirement already satisfied: idna<4,>=2.5 in c:\\users\\mered\\anaconda3\\lib\\site-packages (from requests<3,>=2.27->streamlit>=0.63->streamlit-option-menu) (3.4)\n",
      "Requirement already satisfied: urllib3<3,>=1.21.1 in c:\\users\\mered\\anaconda3\\lib\\site-packages (from requests<3,>=2.27->streamlit>=0.63->streamlit-option-menu) (2.0.7)\n",
      "Requirement already satisfied: certifi>=2017.4.17 in c:\\users\\mered\\anaconda3\\lib\\site-packages (from requests<3,>=2.27->streamlit>=0.63->streamlit-option-menu) (2024.2.2)\n",
      "Requirement already satisfied: markdown-it-py<3.0.0,>=2.2.0 in c:\\users\\mered\\anaconda3\\lib\\site-packages (from rich<14,>=10.14.0->streamlit>=0.63->streamlit-option-menu) (2.2.0)\n",
      "Requirement already satisfied: pygments<3.0.0,>=2.13.0 in c:\\users\\mered\\anaconda3\\lib\\site-packages (from rich<14,>=10.14.0->streamlit>=0.63->streamlit-option-menu) (2.15.1)\n",
      "Requirement already satisfied: smmap<6,>=3.0.1 in c:\\users\\mered\\anaconda3\\lib\\site-packages (from gitdb<5,>=4.0.1->gitpython!=3.1.19,<4,>=3.0.7->streamlit>=0.63->streamlit-option-menu) (5.0.1)\n",
      "Requirement already satisfied: MarkupSafe>=2.0 in c:\\users\\mered\\anaconda3\\lib\\site-packages (from jinja2->altair<6,>=4.0->streamlit>=0.63->streamlit-option-menu) (2.1.3)\n",
      "Requirement already satisfied: attrs>=22.2.0 in c:\\users\\mered\\anaconda3\\lib\\site-packages (from jsonschema>=3.0->altair<6,>=4.0->streamlit>=0.63->streamlit-option-menu) (23.1.0)\n",
      "Requirement already satisfied: jsonschema-specifications>=2023.03.6 in c:\\users\\mered\\anaconda3\\lib\\site-packages (from jsonschema>=3.0->altair<6,>=4.0->streamlit>=0.63->streamlit-option-menu) (2023.7.1)\n",
      "Requirement already satisfied: referencing>=0.28.4 in c:\\users\\mered\\anaconda3\\lib\\site-packages (from jsonschema>=3.0->altair<6,>=4.0->streamlit>=0.63->streamlit-option-menu) (0.30.2)\n",
      "Requirement already satisfied: rpds-py>=0.7.1 in c:\\users\\mered\\anaconda3\\lib\\site-packages (from jsonschema>=3.0->altair<6,>=4.0->streamlit>=0.63->streamlit-option-menu) (0.10.6)\n",
      "Requirement already satisfied: mdurl~=0.1 in c:\\users\\mered\\anaconda3\\lib\\site-packages (from markdown-it-py<3.0.0,>=2.2.0->rich<14,>=10.14.0->streamlit>=0.63->streamlit-option-menu) (0.1.0)\n",
      "Requirement already satisfied: six>=1.5 in c:\\users\\mered\\anaconda3\\lib\\site-packages (from python-dateutil>=2.8.2->pandas<3,>=1.3.0->streamlit>=0.63->streamlit-option-menu) (1.16.0)\n",
      "Note: you may need to restart the kernel to use updated packages.\n"
     ]
    }
   ],
   "source": [
    "# pip install --upgrade streamlit-option-menu"
   ]
  }
 ],
 "metadata": {
  "kernelspec": {
   "display_name": "base",
   "language": "python",
   "name": "python3"
  },
  "language_info": {
   "codemirror_mode": {
    "name": "ipython",
    "version": 3
   },
   "file_extension": ".py",
   "mimetype": "text/x-python",
   "name": "python",
   "nbconvert_exporter": "python",
   "pygments_lexer": "ipython3",
   "version": "3.11.5"
  }
 },
 "nbformat": 4,
 "nbformat_minor": 2
}
