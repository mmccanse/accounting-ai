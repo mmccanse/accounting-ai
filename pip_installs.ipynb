{
 "cells": [
  {
   "cell_type": "code",
   "execution_count": 1,
   "metadata": {},
   "outputs": [
    {
     "name": "stdout",
     "output_type": "stream",
     "text": [
      "Requirement already satisfied: langchain-community in c:\\users\\mered\\anaconda3\\lib\\site-packages (0.0.34)\n",
      "Collecting langchain-community\n",
      "  Obtaining dependency information for langchain-community from https://files.pythonhosted.org/packages/ef/20/df5eb4eaf6a027fb185ac97720f5d365d11c972a122bb9fa2ba8a435b8ea/langchain_community-0.0.36-py3-none-any.whl.metadata\n",
      "  Downloading langchain_community-0.0.36-py3-none-any.whl.metadata (8.7 kB)\n",
      "Requirement already satisfied: faiss-cpu in c:\\users\\mered\\anaconda3\\lib\\site-packages (1.8.0)\n",
      "Requirement already satisfied: langchain-openai in c:\\users\\mered\\anaconda3\\lib\\site-packages (0.1.4)\n",
      "Collecting langchain-openai\n",
      "  Obtaining dependency information for langchain-openai from https://files.pythonhosted.org/packages/5e/9c/4d42e1d362c84b2f51ddeeae82f366596a70173844ea7c9c8abec6ce4e1f/langchain_openai-0.1.5-py3-none-any.whl.metadata\n",
      "  Downloading langchain_openai-0.1.5-py3-none-any.whl.metadata (2.5 kB)\n",
      "Requirement already satisfied: tiktoken in c:\\users\\mered\\anaconda3\\lib\\site-packages (0.6.0)\n",
      "Requirement already satisfied: PyYAML>=5.3 in c:\\users\\mered\\anaconda3\\lib\\site-packages (from langchain-community) (6.0.1)\n",
      "Requirement already satisfied: SQLAlchemy<3,>=1.4 in c:\\users\\mered\\anaconda3\\lib\\site-packages (from langchain-community) (2.0.25)\n",
      "Requirement already satisfied: aiohttp<4.0.0,>=3.8.3 in c:\\users\\mered\\anaconda3\\lib\\site-packages (from langchain-community) (3.9.3)\n",
      "Requirement already satisfied: dataclasses-json<0.7,>=0.5.7 in c:\\users\\mered\\anaconda3\\lib\\site-packages (from langchain-community) (0.6.4)\n",
      "Collecting langchain-core<0.2.0,>=0.1.48 (from langchain-community)\n",
      "  Obtaining dependency information for langchain-core<0.2.0,>=0.1.48 from https://files.pythonhosted.org/packages/4a/cf/df40633dc9bc9dffe23eaaa65ad36997db7c828d1db524a88006f1a68621/langchain_core-0.1.49-py3-none-any.whl.metadata\n",
      "  Downloading langchain_core-0.1.49-py3-none-any.whl.metadata (5.9 kB)\n",
      "Requirement already satisfied: langsmith<0.2.0,>=0.1.0 in c:\\users\\mered\\anaconda3\\lib\\site-packages (from langchain-community) (0.1.39)\n",
      "Requirement already satisfied: numpy<2,>=1 in c:\\users\\mered\\anaconda3\\lib\\site-packages (from langchain-community) (1.26.4)\n",
      "Requirement already satisfied: requests<3,>=2 in c:\\users\\mered\\anaconda3\\lib\\site-packages (from langchain-community) (2.31.0)\n",
      "Requirement already satisfied: tenacity<9.0.0,>=8.1.0 in c:\\users\\mered\\anaconda3\\lib\\site-packages (from langchain-community) (8.2.3)\n",
      "Requirement already satisfied: openai<2.0.0,>=1.10.0 in c:\\users\\mered\\anaconda3\\lib\\site-packages (from langchain-openai) (1.16.1)\n",
      "Requirement already satisfied: regex>=2022.1.18 in c:\\users\\mered\\anaconda3\\lib\\site-packages (from tiktoken) (2023.10.3)\n",
      "Requirement already satisfied: aiosignal>=1.1.2 in c:\\users\\mered\\anaconda3\\lib\\site-packages (from aiohttp<4.0.0,>=3.8.3->langchain-community) (1.2.0)\n",
      "Requirement already satisfied: attrs>=17.3.0 in c:\\users\\mered\\anaconda3\\lib\\site-packages (from aiohttp<4.0.0,>=3.8.3->langchain-community) (23.1.0)\n",
      "Requirement already satisfied: frozenlist>=1.1.1 in c:\\users\\mered\\anaconda3\\lib\\site-packages (from aiohttp<4.0.0,>=3.8.3->langchain-community) (1.4.0)\n",
      "Requirement already satisfied: multidict<7.0,>=4.5 in c:\\users\\mered\\anaconda3\\lib\\site-packages (from aiohttp<4.0.0,>=3.8.3->langchain-community) (6.0.4)\n",
      "Requirement already satisfied: yarl<2.0,>=1.0 in c:\\users\\mered\\anaconda3\\lib\\site-packages (from aiohttp<4.0.0,>=3.8.3->langchain-community) (1.9.3)\n",
      "Requirement already satisfied: marshmallow<4.0.0,>=3.18.0 in c:\\users\\mered\\anaconda3\\lib\\site-packages (from dataclasses-json<0.7,>=0.5.7->langchain-community) (3.21.1)\n",
      "Requirement already satisfied: typing-inspect<1,>=0.4.0 in c:\\users\\mered\\anaconda3\\lib\\site-packages (from dataclasses-json<0.7,>=0.5.7->langchain-community) (0.9.0)\n",
      "Requirement already satisfied: jsonpatch<2.0,>=1.33 in c:\\users\\mered\\anaconda3\\lib\\site-packages (from langchain-core<0.2.0,>=0.1.48->langchain-community) (1.33)\n",
      "Requirement already satisfied: packaging<24.0,>=23.2 in c:\\users\\mered\\anaconda3\\lib\\site-packages (from langchain-core<0.2.0,>=0.1.48->langchain-community) (23.2)\n",
      "Requirement already satisfied: pydantic<3,>=1 in c:\\users\\mered\\anaconda3\\lib\\site-packages (from langchain-core<0.2.0,>=0.1.48->langchain-community) (2.6.4)\n",
      "Requirement already satisfied: orjson<4.0.0,>=3.9.14 in c:\\users\\mered\\anaconda3\\lib\\site-packages (from langsmith<0.2.0,>=0.1.0->langchain-community) (3.10.0)\n",
      "Requirement already satisfied: anyio<5,>=3.5.0 in c:\\users\\mered\\anaconda3\\lib\\site-packages (from openai<2.0.0,>=1.10.0->langchain-openai) (4.2.0)\n",
      "Requirement already satisfied: distro<2,>=1.7.0 in c:\\users\\mered\\anaconda3\\lib\\site-packages (from openai<2.0.0,>=1.10.0->langchain-openai) (1.9.0)\n",
      "Requirement already satisfied: httpx<1,>=0.23.0 in c:\\users\\mered\\anaconda3\\lib\\site-packages (from openai<2.0.0,>=1.10.0->langchain-openai) (0.27.0)\n",
      "Requirement already satisfied: sniffio in c:\\users\\mered\\anaconda3\\lib\\site-packages (from openai<2.0.0,>=1.10.0->langchain-openai) (1.3.0)\n",
      "Requirement already satisfied: tqdm>4 in c:\\users\\mered\\anaconda3\\lib\\site-packages (from openai<2.0.0,>=1.10.0->langchain-openai) (4.65.0)\n",
      "Requirement already satisfied: typing-extensions<5,>=4.7 in c:\\users\\mered\\anaconda3\\lib\\site-packages (from openai<2.0.0,>=1.10.0->langchain-openai) (4.9.0)\n",
      "Requirement already satisfied: charset-normalizer<4,>=2 in c:\\users\\mered\\anaconda3\\lib\\site-packages (from requests<3,>=2->langchain-community) (2.0.4)\n",
      "Requirement already satisfied: idna<4,>=2.5 in c:\\users\\mered\\anaconda3\\lib\\site-packages (from requests<3,>=2->langchain-community) (3.4)\n",
      "Requirement already satisfied: urllib3<3,>=1.21.1 in c:\\users\\mered\\anaconda3\\lib\\site-packages (from requests<3,>=2->langchain-community) (2.0.7)\n",
      "Requirement already satisfied: certifi>=2017.4.17 in c:\\users\\mered\\anaconda3\\lib\\site-packages (from requests<3,>=2->langchain-community) (2024.2.2)\n",
      "Requirement already satisfied: greenlet!=0.4.17 in c:\\users\\mered\\anaconda3\\lib\\site-packages (from SQLAlchemy<3,>=1.4->langchain-community) (3.0.1)\n",
      "Requirement already satisfied: httpcore==1.* in c:\\users\\mered\\anaconda3\\lib\\site-packages (from httpx<1,>=0.23.0->openai<2.0.0,>=1.10.0->langchain-openai) (1.0.5)\n",
      "Requirement already satisfied: h11<0.15,>=0.13 in c:\\users\\mered\\anaconda3\\lib\\site-packages (from httpcore==1.*->httpx<1,>=0.23.0->openai<2.0.0,>=1.10.0->langchain-openai) (0.14.0)\n",
      "Requirement already satisfied: jsonpointer>=1.9 in c:\\users\\mered\\anaconda3\\lib\\site-packages (from jsonpatch<2.0,>=1.33->langchain-core<0.2.0,>=0.1.48->langchain-community) (2.1)\n",
      "Requirement already satisfied: annotated-types>=0.4.0 in c:\\users\\mered\\anaconda3\\lib\\site-packages (from pydantic<3,>=1->langchain-core<0.2.0,>=0.1.48->langchain-community) (0.6.0)\n",
      "Requirement already satisfied: pydantic-core==2.16.3 in c:\\users\\mered\\anaconda3\\lib\\site-packages (from pydantic<3,>=1->langchain-core<0.2.0,>=0.1.48->langchain-community) (2.16.3)\n",
      "Requirement already satisfied: colorama in c:\\users\\mered\\anaconda3\\lib\\site-packages (from tqdm>4->openai<2.0.0,>=1.10.0->langchain-openai) (0.4.4)\n",
      "Requirement already satisfied: mypy-extensions>=0.3.0 in c:\\users\\mered\\anaconda3\\lib\\site-packages (from typing-inspect<1,>=0.4.0->dataclasses-json<0.7,>=0.5.7->langchain-community) (1.0.0)\n",
      "Downloading langchain_community-0.0.36-py3-none-any.whl (2.0 MB)\n",
      "   ---------------------------------------- 0.0/2.0 MB ? eta -:--:--\n",
      "    --------------------------------------- 0.0/2.0 MB 1.4 MB/s eta 0:00:02\n",
      "   - -------------------------------------- 0.1/2.0 MB 1.3 MB/s eta 0:00:02\n",
      "   ---- ----------------------------------- 0.2/2.0 MB 2.3 MB/s eta 0:00:01\n",
      "   --------- ------------------------------ 0.5/2.0 MB 3.4 MB/s eta 0:00:01\n",
      "   ---------------------- ----------------- 1.1/2.0 MB 5.5 MB/s eta 0:00:01\n",
      "   ---------------------------------------- 2.0/2.0 MB 7.9 MB/s eta 0:00:00\n",
      "Downloading langchain_openai-0.1.5-py3-none-any.whl (34 kB)\n",
      "Downloading langchain_core-0.1.49-py3-none-any.whl (303 kB)\n",
      "   ---------------------------------------- 0.0/303.0 kB ? eta -:--:--\n",
      "   --------------------------------------- 303.0/303.0 kB 19.5 MB/s eta 0:00:00\n",
      "Installing collected packages: langchain-core, langchain-openai, langchain-community\n",
      "  Attempting uninstall: langchain-core\n",
      "    Found existing installation: langchain-core 0.1.46\n",
      "    Uninstalling langchain-core-0.1.46:\n",
      "      Successfully uninstalled langchain-core-0.1.46\n",
      "  Attempting uninstall: langchain-openai\n",
      "    Found existing installation: langchain-openai 0.1.4\n",
      "    Uninstalling langchain-openai-0.1.4:\n",
      "      Successfully uninstalled langchain-openai-0.1.4\n",
      "  Attempting uninstall: langchain-community\n",
      "    Found existing installation: langchain-community 0.0.34\n",
      "    Uninstalling langchain-community-0.0.34:\n",
      "      Successfully uninstalled langchain-community-0.0.34\n",
      "Successfully installed langchain-community-0.0.36 langchain-core-0.1.49 langchain-openai-0.1.5\n",
      "Note: you may need to restart the kernel to use updated packages.\n"
     ]
    }
   ],
   "source": [
    "# pip install -U langchain-community faiss-cpu langchain-openai tiktoken"
   ]
  },
  {
   "cell_type": "code",
   "execution_count": 1,
   "metadata": {},
   "outputs": [
    {
     "name": "stdout",
     "output_type": "stream",
     "text": [
      "Collecting faiss-cpu\n",
      "  Obtaining dependency information for faiss-cpu from https://files.pythonhosted.org/packages/d3/ad/63eb31be05c38445781caecbc6d3b9dec151012194b00573ba34f29d5cf5/faiss_cpu-1.8.0-cp311-cp311-win_amd64.whl.metadata\n",
      "  Downloading faiss_cpu-1.8.0-cp311-cp311-win_amd64.whl.metadata (3.8 kB)\n",
      "Requirement already satisfied: numpy in c:\\users\\mered\\anaconda3\\lib\\site-packages (from faiss-cpu) (1.26.4)\n",
      "Downloading faiss_cpu-1.8.0-cp311-cp311-win_amd64.whl (14.5 MB)\n",
      "   ---------------------------------------- 0.0/14.5 MB ? eta -:--:--\n",
      "   ---------------------------------------- 0.0/14.5 MB ? eta -:--:--\n",
      "   ---------------------------------------- 0.1/14.5 MB 1.2 MB/s eta 0:00:13\n",
      "    --------------------------------------- 0.3/14.5 MB 2.0 MB/s eta 0:00:08\n",
      "   - -------------------------------------- 0.7/14.5 MB 4.0 MB/s eta 0:00:04\n",
      "   ---- ----------------------------------- 1.6/14.5 MB 7.2 MB/s eta 0:00:02\n",
      "   ------ --------------------------------- 2.4/14.5 MB 9.7 MB/s eta 0:00:02\n",
      "   ---------- ----------------------------- 3.8/14.5 MB 12.8 MB/s eta 0:00:01\n",
      "   -------------- ------------------------- 5.3/14.5 MB 15.4 MB/s eta 0:00:01\n",
      "   -------------------- ------------------- 7.6/14.5 MB 19.5 MB/s eta 0:00:01\n",
      "   --------------------- ------------------ 7.9/14.5 MB 18.1 MB/s eta 0:00:01\n",
      "   --------------------------- ------------ 9.9/14.5 MB 20.4 MB/s eta 0:00:01\n",
      "   -------------------------------- ------- 11.8/14.5 MB 32.7 MB/s eta 0:00:01\n",
      "   -------------------------------- ------- 11.8/14.5 MB 32.7 MB/s eta 0:00:01\n",
      "   ----------------------------------- ---- 12.9/14.5 MB 29.7 MB/s eta 0:00:01\n",
      "   ---------------------------------------  14.5/14.5 MB 31.2 MB/s eta 0:00:01\n",
      "   ---------------------------------------- 14.5/14.5 MB 28.5 MB/s eta 0:00:00\n",
      "Installing collected packages: faiss-cpu\n",
      "Successfully installed faiss-cpu-1.8.0\n",
      "Note: you may need to restart the kernel to use updated packages.\n"
     ]
    }
   ],
   "source": [
    "# pip install faiss-cpu"
   ]
  }
 ],
 "metadata": {
  "kernelspec": {
   "display_name": "base",
   "language": "python",
   "name": "python3"
  },
  "language_info": {
   "codemirror_mode": {
    "name": "ipython",
    "version": 3
   },
   "file_extension": ".py",
   "mimetype": "text/x-python",
   "name": "python",
   "nbconvert_exporter": "python",
   "pygments_lexer": "ipython3",
   "version": "3.11.5"
  }
 },
 "nbformat": 4,
 "nbformat_minor": 2
}
