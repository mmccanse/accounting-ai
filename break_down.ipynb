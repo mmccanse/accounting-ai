{
 "cells": [
  {
   "cell_type": "code",
   "execution_count": 1,
   "metadata": {},
   "outputs": [],
   "source": [
    "from langchain_openai import OpenAI, ChatOpenAI\n",
    "from langchain.text_splitter import RecursiveCharacterTextSplitter\n",
    "from langchain_openai import OpenAIEmbeddings\n",
    "from langchain_community.vectorstores import FAISS\n",
    "from langchain_core.vectorstores import VectorStoreRetriever\n",
    "from langchain.chains import RetrievalQA\n",
    "from langchain_community.document_loaders import YoutubeLoader\n",
    "import streamlit as st\n",
    "import os"
   ]
  },
  {
   "cell_type": "code",
   "execution_count": 3,
   "metadata": {},
   "outputs": [],
   "source": [
    "\n",
    "OPENAI_API_KEY = st.secrets[\"YOUTUBE_OPENAI_API_KEY\"]\n",
    "youtube_url = \"https://www.youtube.com/watch?v=P1iCMyuwOfg&ab_channel=ChefReactions\"\n",
    "youtube_url_2 = \"https://www.youtube.com/watch?v=Gm2-Kc-A7Kc&t=2s&ab_channel=ColoradoChannel\"\n",
    "openai_embed_model = \"text-embedding-ada-002\"\n",
    "openai_model = \"gpt-3.5-turbo-16k\"\n",
    "llm = ChatOpenAI(api_key=OPENAI_API_KEY, model=openai_model, temperature=0.1)"
   ]
  },
  {
   "cell_type": "code",
   "execution_count": 4,
   "metadata": {},
   "outputs": [],
   "source": [
    "def process_video(url):\n",
    "    loader = YoutubeLoader.from_youtube_url(url)\n",
    "    documents = loader.load()\n",
    "    text_splitter = RecursiveCharacterTextSplitter(chunk_size=10000, chunk_overlap=200)\n",
    "    chunks = text_splitter.split_documents(documents)\n",
    "    embedding = OpenAIEmbeddings(api_key=OPENAI_API_KEY, model = \"text-embedding-ada-002\")\n",
    "    vector_store = FAISS.from_documents(chunks, embedding)\n",
    "    return vector_store"
   ]
  },
  {
   "cell_type": "code",
   "execution_count": 5,
   "metadata": {},
   "outputs": [],
   "source": [
    "vector_store = process_video(youtube_url_2)"
   ]
  },
  {
   "cell_type": "code",
   "execution_count": 6,
   "metadata": {},
   "outputs": [],
   "source": [
    "query1 = 'give me a bulleted list of the talking points'\n",
    "query2 = 'what is the most important point of the video?'\n",
    "query3 = 'please list the bills that were voted on. Give the bill number, the bill name, and the main talking points about each'"
   ]
  },
  {
   "cell_type": "code",
   "execution_count": 7,
   "metadata": {},
   "outputs": [],
   "source": [
    "def process_question(question):\n",
    "    retriever = vector_store.as_retriever()\n",
    "    qa = RetrievalQA.from_chain_type(llm = llm, chain_type='stuff', retriever=retriever)\n",
    "    results = qa.invoke(question)\n",
    "    return results\n"
   ]
  },
  {
   "cell_type": "code",
   "execution_count": 9,
   "metadata": {},
   "outputs": [],
   "source": [
    "response = process_question(query3)"
   ]
  },
  {
   "cell_type": "code",
   "execution_count": 10,
   "metadata": {},
   "outputs": [
    {
     "name": "stdout",
     "output_type": "stream",
     "text": [
      "{'query': 'please list the bills that were voted on. Give the bill number, the bill name, and the main talking points about each', 'result': 'Here are the bills that were voted on:\\n\\n1. House Bill 1368 - This bill concerns requirements for property and casualty insurers offering insurance policies in the state to provide certain documents to their insurance. It was adopted without much discussion.\\n\\n2. House Bill 1381 - This bill concerns the continuation of the Division of Financial Services in the Department of Regulatory Agencies. It updates fees paid to public trustees to cover the cost of certain tasks related to foreclosures. It was adopted without much discussion.\\n\\n3. House Bill 1438 - This bill concerns the implementation of certain affordable prescription drug programs. It ensures that Coloradans who need insulin and epipens can access them at an affordable price. It was adopted without much discussion.\\n\\n4. House Bill 1443 - This bill concerns fees to which public trustees are entitled for performing services conferred upon them by statute. It updates the fees paid to public trustees to align with current operating costs. It was adopted without much discussion.\\n\\n5. Senate Bill 13 - This bill concerns the compensation of attorneys working in the office of a district attorney. It aims to address the shortage of highly qualified professionals in rural areas by increasing salaries and benefits for district attorneys and their staff. It was adopted with support for improving access to justice in rural communities.\\n\\n6. Senate Bill 55 - This bill concerns supporting the behavioral healthcare of individuals involved in agriculture. It establishes an Agricultural and Rural Behavioral Health Care Program to address the mental health needs of individuals in the agriculture industry. It was adopted with recognition of the unique mental health challenges faced by individuals in rural and agricultural communities.\\n\\nThese bills were adopted with the majority of the votes in favor, indicating support for their respective purposes and goals.'}\n"
     ]
    }
   ],
   "source": [
    "print(response)"
   ]
  }
 ],
 "metadata": {
  "kernelspec": {
   "display_name": "base",
   "language": "python",
   "name": "python3"
  },
  "language_info": {
   "codemirror_mode": {
    "name": "ipython",
    "version": 3
   },
   "file_extension": ".py",
   "mimetype": "text/x-python",
   "name": "python",
   "nbconvert_exporter": "python",
   "pygments_lexer": "ipython3",
   "version": "3.11.5"
  }
 },
 "nbformat": 4,
 "nbformat_minor": 2
}
