{
 "cells": [
  {
   "cell_type": "code",
   "execution_count": 1,
   "metadata": {},
   "outputs": [
    {
     "name": "stdout",
     "output_type": "stream",
     "text": [
      "Collecting faiss-cpu\n",
      "  Obtaining dependency information for faiss-cpu from https://files.pythonhosted.org/packages/d3/ad/63eb31be05c38445781caecbc6d3b9dec151012194b00573ba34f29d5cf5/faiss_cpu-1.8.0-cp311-cp311-win_amd64.whl.metadata\n",
      "  Downloading faiss_cpu-1.8.0-cp311-cp311-win_amd64.whl.metadata (3.8 kB)\n",
      "Requirement already satisfied: numpy in c:\\users\\mered\\anaconda3\\lib\\site-packages (from faiss-cpu) (1.26.4)\n",
      "Downloading faiss_cpu-1.8.0-cp311-cp311-win_amd64.whl (14.5 MB)\n",
      "   ---------------------------------------- 0.0/14.5 MB ? eta -:--:--\n",
      "   ---------------------------------------- 0.0/14.5 MB ? eta -:--:--\n",
      "   ---------------------------------------- 0.1/14.5 MB 1.2 MB/s eta 0:00:13\n",
      "    --------------------------------------- 0.3/14.5 MB 2.0 MB/s eta 0:00:08\n",
      "   - -------------------------------------- 0.7/14.5 MB 4.0 MB/s eta 0:00:04\n",
      "   ---- ----------------------------------- 1.6/14.5 MB 7.2 MB/s eta 0:00:02\n",
      "   ------ --------------------------------- 2.4/14.5 MB 9.7 MB/s eta 0:00:02\n",
      "   ---------- ----------------------------- 3.8/14.5 MB 12.8 MB/s eta 0:00:01\n",
      "   -------------- ------------------------- 5.3/14.5 MB 15.4 MB/s eta 0:00:01\n",
      "   -------------------- ------------------- 7.6/14.5 MB 19.5 MB/s eta 0:00:01\n",
      "   --------------------- ------------------ 7.9/14.5 MB 18.1 MB/s eta 0:00:01\n",
      "   --------------------------- ------------ 9.9/14.5 MB 20.4 MB/s eta 0:00:01\n",
      "   -------------------------------- ------- 11.8/14.5 MB 32.7 MB/s eta 0:00:01\n",
      "   -------------------------------- ------- 11.8/14.5 MB 32.7 MB/s eta 0:00:01\n",
      "   ----------------------------------- ---- 12.9/14.5 MB 29.7 MB/s eta 0:00:01\n",
      "   ---------------------------------------  14.5/14.5 MB 31.2 MB/s eta 0:00:01\n",
      "   ---------------------------------------- 14.5/14.5 MB 28.5 MB/s eta 0:00:00\n",
      "Installing collected packages: faiss-cpu\n",
      "Successfully installed faiss-cpu-1.8.0\n",
      "Note: you may need to restart the kernel to use updated packages.\n"
     ]
    }
   ],
   "source": [
    "# pip install faiss-cpu"
   ]
  }
 ],
 "metadata": {
  "kernelspec": {
   "display_name": "base",
   "language": "python",
   "name": "python3"
  },
  "language_info": {
   "codemirror_mode": {
    "name": "ipython",
    "version": 3
   },
   "file_extension": ".py",
   "mimetype": "text/x-python",
   "name": "python",
   "nbconvert_exporter": "python",
   "pygments_lexer": "ipython3",
   "version": "3.11.5"
  }
 },
 "nbformat": 4,
 "nbformat_minor": 2
}
